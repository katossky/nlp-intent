{
 "cells": [
  {
   "cell_type": "code",
   "execution_count": 1,
   "metadata": {},
   "outputs": [],
   "source": [
    "from transformers import AutoTokenizer, AutoModelForSequenceClassification, Trainer, TrainingArguments\n",
    "\n",
    "tokenizer = AutoTokenizer.from_pretrained(\"roberta-base\")\n"
   ]
  },
  {
   "cell_type": "code",
   "execution_count": 2,
   "metadata": {},
   "outputs": [
    {
     "data": {
      "text/plain": [
       "'</s>'"
      ]
     },
     "execution_count": 2,
     "metadata": {},
     "output_type": "execute_result"
    }
   ],
   "source": [
    "tokenizer.sep_token"
   ]
  },
  {
   "cell_type": "code",
   "execution_count": 4,
   "metadata": {},
   "outputs": [
    {
     "name": "stderr",
     "output_type": "stream",
     "text": [
      "Found cached dataset silicone (/Users/katossky/.cache/huggingface/datasets/silicone/dyda_da/1.0.0/af617406c94e3f78da85f7ea74ebfbd3f297a9665cb54adbae305b03bc4442a5)\n"
     ]
    },
    {
     "data": {
      "application/vnd.jupyter.widget-view+json": {
       "model_id": "b6336c4ade5b4657995a8fcefc3777df",
       "version_major": 2,
       "version_minor": 0
      },
      "text/plain": [
       "  0%|          | 0/3 [00:00<?, ?it/s]"
      ]
     },
     "metadata": {},
     "output_type": "display_data"
    }
   ],
   "source": [
    "import datasets\n",
    "dataset = datasets.load_dataset('silicone', 'dyda_da')"
   ]
  },
  {
   "cell_type": "code",
   "execution_count": 8,
   "metadata": {},
   "outputs": [
    {
     "data": {
      "text/plain": [
       "{'Utterance': \"do you really think so ? i don't . it will just make us fat and act silly . remember last time ?\",\n",
       " 'Dialogue_Act': 'question',\n",
       " 'Dialogue_ID': '1',\n",
       " 'Label': 3,\n",
       " 'Idx': 3}"
      ]
     },
     "execution_count": 8,
     "metadata": {},
     "output_type": "execute_result"
    }
   ],
   "source": [
    "\n",
    "dataset['train'][3]"
   ]
  },
  {
   "cell_type": "code",
   "execution_count": 109,
   "metadata": {},
   "outputs": [
    {
     "name": "stderr",
     "output_type": "stream",
     "text": [
      "Found cached dataset miam (/Users/katossky/.cache/huggingface/datasets/miam/maptask/1.0.0/3cb25c5337f9e60db1dc6d90344763a6ef79d7a4ac3c5f215ce6e8afe99db26c)\n"
     ]
    },
    {
     "data": {
      "application/vnd.jupyter.widget-view+json": {
       "model_id": "499e71ad1047417b8a3f6358152ab759",
       "version_major": 2,
       "version_minor": 0
      },
      "text/plain": [
       "  0%|          | 0/3 [00:00<?, ?it/s]"
      ]
     },
     "metadata": {},
     "output_type": "display_data"
    }
   ],
   "source": [
    "\n",
    "import datasets\n",
    "\n",
    "subset = 'maptask' # 'dihana' (Spanish), 'ilisten' (Italian), 'loria' (French), 'maptask' (English) or 'vm2' (German) \n",
    "dataset = datasets.load_dataset('miam', subset)"
   ]
  },
  {
   "cell_type": "code",
   "execution_count": 75,
   "metadata": {},
   "outputs": [
    {
     "data": {
      "text/plain": [
       "{'Speaker': 'g',\n",
       " 'Utterance': 'okay the start part is at the top left-hand corner',\n",
       " 'Dialogue_Act': 'instruct',\n",
       " 'Dialogue_ID': '0',\n",
       " 'File_ID': 'q7nc7',\n",
       " 'Label': 5,\n",
       " 'Idx': 0}"
      ]
     },
     "execution_count": 75,
     "metadata": {},
     "output_type": "execute_result"
    }
   ],
   "source": [
    "# example of one instance\n",
    "dataset['train'][0]"
   ]
  },
  {
   "cell_type": "code",
   "execution_count": 108,
   "metadata": {},
   "outputs": [
    {
     "name": "stdout",
     "output_type": "stream",
     "text": [
      "1986 971\n"
     ]
    }
   ],
   "source": [
    "# number of instances\n",
    "print(len(dataset['train']), len(dataset['test']))"
   ]
  },
  {
   "cell_type": "code",
   "execution_count": 98,
   "metadata": {},
   "outputs": [
    {
     "data": {
      "text/plain": [
       "5012"
      ]
     },
     "execution_count": 98,
     "metadata": {},
     "output_type": "execute_result"
    }
   ],
   "source": [
    "# number of individual dialogues\n",
    "len(set(dataset['train']['Dialogue_ID']))\n",
    "# File_ID (when present) is redundant with Dialogue_ID\n",
    "# len ( set( (f,d) for f,d in zip(dataset['train']['File_ID'], dataset['train']['Dialogue_ID']) ) )"
   ]
  },
  {
   "cell_type": "code",
   "execution_count": 107,
   "metadata": {},
   "outputs": [
    {
     "data": {
      "text/plain": [
       "15"
      ]
     },
     "execution_count": 107,
     "metadata": {},
     "output_type": "execute_result"
    }
   ],
   "source": [
    "# number of dialog act types\n",
    "len(dataset['train'].info.features['Label'].names)"
   ]
  },
  {
   "cell_type": "code",
   "execution_count": 103,
   "metadata": {},
   "outputs": [
    {
     "name": "stdout",
     "output_type": "stream",
     "text": [
      "['ACCEPT', 'BACKCHANNEL', 'BYE', 'CLARIFY', 'CLOSE', 'COMMIT', 'CONFIRM', 'DEFER', 'DELIBERATE', 'DEVIATE_SCENARIO', 'EXCLUDE', 'EXPLAINED_REJECT', 'FEEDBACK', 'FEEDBACK_NEGATIVE', 'FEEDBACK_POSITIVE', 'GIVE_REASON', 'GREET', 'INFORM', 'INIT', 'INTRODUCE', 'NOT_CLASSIFIABLE', 'OFFER', 'POLITENESS_FORMULA', 'REJECT', 'REQUEST', 'REQUEST_CLARIFY', 'REQUEST_COMMENT', 'REQUEST_COMMIT', 'REQUEST_SUGGEST', 'SUGGEST', 'THANK']\n"
     ]
    }
   ],
   "source": [
    "print(dataset['train'].info.features['Label'].names)"
   ]
  },
  {
   "cell_type": "code",
   "execution_count": null,
   "metadata": {},
   "outputs": [],
   "source": [
    "# list model's first-level components\n",
    "model._modules.keys() # both model's core are called \"roberta\""
   ]
  },
  {
   "cell_type": "code",
   "execution_count": 114,
   "metadata": {},
   "outputs": [
    {
     "data": {
      "text/plain": [
       "Label\n",
       "0     0.209440\n",
       "1     0.067686\n",
       "2     0.079663\n",
       "3     0.044559\n",
       "4     0.079939\n",
       "5     0.158695\n",
       "6     0.028997\n",
       "7     0.065716\n",
       "8     0.075920\n",
       "9     0.033252\n",
       "10    0.034631\n",
       "11    0.121503\n",
       "Name: Idx, dtype: float64"
      ]
     },
     "execution_count": 114,
     "metadata": {},
     "output_type": "execute_result"
    }
   ],
   "source": [
    "dataset['train'].to_pandas().groupby('Label').count()['Idx']/len(dataset['train'])"
   ]
  },
  {
   "cell_type": "code",
   "execution_count": 117,
   "metadata": {},
   "outputs": [
    {
     "name": "stdout",
     "output_type": "stream",
     "text": [
      "Downloading and preparing dataset open_subtitles/en-fr to /Users/katossky/.cache/huggingface/datasets/open_subtitles/en-fr-lang1=en,lang2=fr/0.0.0/c1ec973ca4b6e588740d8f167cc0e24ea3f626e70bc7ffe467e944730500e198...\n"
     ]
    },
    {
     "data": {
      "application/vnd.jupyter.widget-view+json": {
       "model_id": "ea74d3c0d9914688aecdeff07806d017",
       "version_major": 2,
       "version_minor": 0
      },
      "text/plain": [
       "Downloading data:   0%|          | 0.00/1.30G [00:00<?, ?B/s]"
      ]
     },
     "metadata": {},
     "output_type": "display_data"
    },
    {
     "data": {
      "application/vnd.jupyter.widget-view+json": {
       "model_id": "b5baba2120e04f8890b71e50622d554c",
       "version_major": 2,
       "version_minor": 0
      },
      "text/plain": [
       "Generating train split: 0 examples [00:00, ? examples/s]"
      ]
     },
     "metadata": {},
     "output_type": "display_data"
    },
    {
     "name": "stdout",
     "output_type": "stream",
     "text": [
      "Dataset open_subtitles downloaded and prepared to /Users/katossky/.cache/huggingface/datasets/open_subtitles/en-fr-lang1=en,lang2=fr/0.0.0/c1ec973ca4b6e588740d8f167cc0e24ea3f626e70bc7ffe467e944730500e198. Subsequent calls will reuse this data.\n"
     ]
    },
    {
     "data": {
      "application/vnd.jupyter.widget-view+json": {
       "model_id": "de60ed4d351047a58a39b332d8a980d8",
       "version_major": 2,
       "version_minor": 0
      },
      "text/plain": [
       "  0%|          | 0/1 [00:00<?, ?it/s]"
      ]
     },
     "metadata": {},
     "output_type": "display_data"
    }
   ],
   "source": [
    "from datasets import load_dataset\n",
    "dataset = load_dataset(\"open_subtitles\", lang1=\"en\", lang2=\"fr\")"
   ]
  },
  {
   "cell_type": "code",
   "execution_count": 129,
   "metadata": {},
   "outputs": [
    {
     "data": {
      "text/plain": [
       "0.002394436020286428"
      ]
     },
     "execution_count": 129,
     "metadata": {},
     "output_type": "execute_result"
    }
   ],
   "source": [
    "100000/len(dataset['train'])"
   ]
  },
  {
   "cell_type": "code",
   "execution_count": 119,
   "metadata": {},
   "outputs": [
    {
     "data": {
      "text/plain": [
       "41763.488"
      ]
     },
     "execution_count": 119,
     "metadata": {},
     "output_type": "execute_result"
    }
   ],
   "source": [
    "41763488/1000"
   ]
  },
  {
   "cell_type": "code",
   "execution_count": 125,
   "metadata": {},
   "outputs": [
    {
     "data": {
      "text/plain": [
       "{'id': '5',\n",
       " 'meta': {'year': 0,\n",
       "  'imdbId': 1089124,\n",
       "  'subtitleId': {'en': 4995691, 'fr': 4588599},\n",
       "  'sentenceIds': {'en': [12], 'fr': [6]}},\n",
       " 'translation': {'en': 'I was made to hit in America',\n",
       "  'fr': 'I was made to hit in America'}}"
      ]
     },
     "execution_count": 125,
     "metadata": {},
     "output_type": "execute_result"
    }
   ],
   "source": [
    "dataset['train'][5]"
   ]
  },
  {
   "cell_type": "code",
   "execution_count": null,
   "metadata": {},
   "outputs": [],
   "source": []
  }
 ],
 "metadata": {
  "kernelspec": {
   "display_name": ".venv",
   "language": "python",
   "name": "python3"
  },
  "language_info": {
   "codemirror_mode": {
    "name": "ipython",
    "version": 3
   },
   "file_extension": ".py",
   "mimetype": "text/x-python",
   "name": "python",
   "nbconvert_exporter": "python",
   "pygments_lexer": "ipython3",
   "version": "3.9.16"
  },
  "orig_nbformat": 4,
  "vscode": {
   "interpreter": {
    "hash": "d4aea6b1b09ae404ba30e980ce24df721b0c73dc6eae7810ca3151147d99a9ea"
   }
  }
 },
 "nbformat": 4,
 "nbformat_minor": 2
}
