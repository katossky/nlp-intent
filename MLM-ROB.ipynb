{
 "cells": [
  {
   "cell_type": "code",
   "execution_count": 1,
   "metadata": {},
   "outputs": [],
   "source": [
    "from datasets import load_dataset\n",
    "import sklearn\n",
    "from sklearn.model_selection import train_test_split\n",
    "from tqdm import tqdm\n",
    "\n",
    "import torch\n",
    "import random\n",
    "from transformers import BertTokenizer, BertForMaskedLM, Trainer, TrainingArguments"
   ]
  },
  {
   "cell_type": "code",
   "execution_count": null,
   "metadata": {},
   "outputs": [],
   "source": [
    "from transformers import XLMRobertaTokenizer, XLMRobertaForMaskedLM, DataCollatorForLanguageModeling, Trainer, TrainingArguments\n",
    "from datasets import load_dataset\n",
    "\n",
    "# Load the tokenizer and model\n",
    "tokenizer = XLMRobertaTokenizer.from_pretrained('xlm-roberta-base')\n",
    "model = XLMRobertaForMaskedLM.from_pretrained('xlm-roberta-base')\n",
    "\n",
    "# Freeze all layers except the last 3 layers\n",
    "for name, param in model.named_parameters():\n",
    "    if 'encoder' in name:\n",
    "        # Check if the last character of the name is a digit\n",
    "        if name[-1].isdigit():\n",
    "            layer_num = int(name[-1])\n",
    "            # Fine-tune the last 3 layers of the encoder\n",
    "            if layer_num >= 9:\n",
    "                param.requires_grad = True\n",
    "        else:\n",
    "            # Skip this parameter if it doesn't have a valid layer number\n",
    "            continue\n",
    "    else:\n",
    "        # Freeze all other layers\n",
    "        param.requires_grad = False"
   ]
  },
  {
   "cell_type": "code",
   "execution_count": null,
   "metadata": {},
   "outputs": [],
   "source": []
  },
  {
   "cell_type": "code",
   "execution_count": null,
   "metadata": {},
   "outputs": [],
   "source": []
  },
  {
   "cell_type": "code",
   "execution_count": null,
   "metadata": {},
   "outputs": [],
   "source": []
  },
  {
   "cell_type": "code",
   "execution_count": null,
   "metadata": {},
   "outputs": [],
   "source": []
  }
 ],
 "metadata": {
  "kernelspec": {
   "display_name": "Python 3",
   "language": "python",
   "name": "python3"
  },
  "language_info": {
   "codemirror_mode": {
    "name": "ipython",
    "version": 3
   },
   "file_extension": ".py",
   "mimetype": "text/x-python",
   "name": "python",
   "nbconvert_exporter": "python",
   "pygments_lexer": "ipython3",
   "version": "3.10.10"
  },
  "orig_nbformat": 4,
  "vscode": {
   "interpreter": {
    "hash": "3570a180a07869642352e27de34a97c8fb400954da12020b987c565e2daf50d7"
   }
  }
 },
 "nbformat": 4,
 "nbformat_minor": 2
}
